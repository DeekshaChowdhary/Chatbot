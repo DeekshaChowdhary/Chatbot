{
 "cells": [
  {
   "cell_type": "code",
   "execution_count": 1,
   "id": "e5e76ddc-c10f-4443-bcca-ee55b6564b76",
   "metadata": {},
   "outputs": [],
   "source": [
    "import io\n",
    "import random \n",
    "import string \n",
    "import warnings\n",
    "warnings.filterwarnings('ignore')\n",
    "import numpy as np\n",
    "from sklearn.feature_extraction.text import TfidfVectorizer\n",
    "from sklearn.metrics.pairwise import cosine_similarity\n",
    "from nltk.stem import WordNetLemmatizer"
   ]
  },
  {
   "cell_type": "code",
   "execution_count": 3,
   "id": "1876e73f-8d0d-4957-8601-f5d54ab2fff9",
   "metadata": {},
   "outputs": [],
   "source": [
    "import nltk"
   ]
  },
  {
   "cell_type": "code",
   "execution_count": 5,
   "id": "535f6f95-5c16-452f-b7a8-4d44ac867284",
   "metadata": {},
   "outputs": [
    {
     "name": "stderr",
     "output_type": "stream",
     "text": [
      "[nltk_data] Downloading package punkt to\n",
      "[nltk_data]     C:\\Users\\deeks\\AppData\\Roaming\\nltk_data...\n",
      "[nltk_data]   Package punkt is already up-to-date!\n",
      "[nltk_data] Downloading package wordnet to\n",
      "[nltk_data]     C:\\Users\\deeks\\AppData\\Roaming\\nltk_data...\n",
      "[nltk_data]   Package wordnet is already up-to-date!\n"
     ]
    },
    {
     "data": {
      "text/plain": [
       "True"
      ]
     },
     "execution_count": 5,
     "metadata": {},
     "output_type": "execute_result"
    }
   ],
   "source": [
    "nltk.download('popular', quiet=True)\n",
    "nltk.download('punkt')\n",
    "nltk.download('wordnet')"
   ]
  },
  {
   "cell_type": "code",
   "execution_count": 3,
   "id": "7370d4b7-c3d9-44db-939f-0b32d5fa0892",
   "metadata": {},
   "outputs": [],
   "source": [
    "f=open('input.txt','r',errors='ignore')\n",
    "raw=f.read()\n",
    "raw=raw.lower()\n"
   ]
  },
  {
   "cell_type": "markdown",
   "id": "d9ec7fe4-af01-4fee-8b63-11663c15b4c1",
   "metadata": {},
   "source": [
    "##### Tokenization"
   ]
  },
  {
   "cell_type": "code",
   "execution_count": 8,
   "id": "8d1ca3b5-a8a0-4d9f-b8d9-592bb3d72f6f",
   "metadata": {},
   "outputs": [
    {
     "name": "stderr",
     "output_type": "stream",
     "text": [
      "[nltk_data] Downloading package punkt_tab to\n",
      "[nltk_data]     C:\\Users\\deeks\\AppData\\Roaming\\nltk_data...\n",
      "[nltk_data]   Unzipping tokenizers\\punkt_tab.zip.\n"
     ]
    },
    {
     "data": {
      "text/plain": [
       "True"
      ]
     },
     "execution_count": 8,
     "metadata": {},
     "output_type": "execute_result"
    }
   ],
   "source": [
    "import nltk\n",
    "nltk.download('punkt_tab')"
   ]
  },
  {
   "cell_type": "code",
   "execution_count": 10,
   "id": "48b1c510-2233-4d7e-ad96-b880ceb9cc5d",
   "metadata": {},
   "outputs": [],
   "source": [
    "import nltk\n",
    "sent_tokens = nltk.sent_tokenize(raw)\n",
    "word_tokens = nltk.word_tokenize(raw)"
   ]
  },
  {
   "cell_type": "markdown",
   "id": "06ca7492-f9d8-44a3-b5a7-ff50c84adf91",
   "metadata": {},
   "source": [
    "#### Preprocessing"
   ]
  },
  {
   "cell_type": "code",
   "execution_count": 17,
   "id": "2bd1a1fb-87c5-4f2f-9534-5b70b334e7fc",
   "metadata": {},
   "outputs": [
    {
     "name": "stderr",
     "output_type": "stream",
     "text": [
      "[nltk_data] Downloading package punkt to\n",
      "[nltk_data]     C:\\Users\\deeks\\AppData\\Roaming\\nltk_data...\n",
      "[nltk_data]   Package punkt is already up-to-date!\n",
      "[nltk_data] Downloading package wordnet to\n",
      "[nltk_data]     C:\\Users\\deeks\\AppData\\Roaming\\nltk_data...\n",
      "[nltk_data]   Package wordnet is already up-to-date!\n"
     ]
    }
   ],
   "source": [
    "import nltk\n",
    "import string\n",
    "from nltk.stem import WordNetLemmatizer\n",
    "from nltk.tokenize import word_tokenize\n",
    "\n",
    "nltk.download('punkt')\n",
    "nltk.download('wordnet')\n",
    "\n",
    "lemmer = WordNetLemmatizer()\n",
    "\n",
    "def LemTokens(tokens):\n",
    "    return [lemmer.lemmatize(token) for token in tokens]\n",
    "\n",
    "remove_punct_map = str.maketrans('', '', string.punctuation)\n",
    "\n",
    "def LemNormalize(text):\n",
    "    return LemTokens(word_tokenize(text.lower().translate(remove_punct_map)))\n"
   ]
  },
  {
   "cell_type": "markdown",
   "id": "4dd4932c-2e8e-4099-b70c-95689db8a59e",
   "metadata": {},
   "source": [
    "##### Keyword matching"
   ]
  },
  {
   "cell_type": "code",
   "execution_count": 28,
   "id": "3021fc3b-d309-44b9-970c-9d513f17f99a",
   "metadata": {},
   "outputs": [],
   "source": [
    "import random\n",
    "\n",
    "GREETING_INPUTS = {\"hello\", \"hi\", \"greetings\", \"what's up\", \"hey\", \"how are you?\"}\n",
    "GREETING_RESPONSES = [\n",
    "    \"hi\", \"hey\", \"hi there\", \"hello\", \\\n",
    "    \"I am glad! You are talking to me\", \\\n",
    "    \"I am fine! How about you?\"\n",
    "]\n",
    "\n",
    "def greeting(sentence): \n",
    "    if set(sentence.lower().split()) & GREETING_INPUTS:\n",
    "        return random.choice(GREETING_RESPONSES)\n"
   ]
  },
  {
   "cell_type": "code",
   "execution_count": 32,
   "id": "ef9e4888-232b-4715-b173-256615260af6",
   "metadata": {},
   "outputs": [],
   "source": [
    "def response(user_response, sent_tokens):  \n",
    "    robo_response = \"\"\n",
    "    sent_tokens.append(user_response)  \n",
    "    \n",
    "    TfidfVec = TfidfVectorizer(tokenizer=LemNormalize, stop_words='english')\n",
    "    tfidf = TfidfVec.fit_transform(sent_tokens)\n",
    "    \n",
    "    vals = cosine_similarity(tfidf[-1], tfidf)  \n",
    "    idx = vals.argsort()[0][-2]  \n",
    "    \n",
    "    flat = vals.flatten()\n",
    "    flat.sort()\n",
    "    req_tfidf = flat[-2]  \n",
    "\n",
    "    if req_tfidf == 0:\n",
    "        robo_response += \"I am sorry! I don't understand you.\"\n",
    "    else:\n",
    "        robo_response += sent_tokens[idx]  \n",
    "\n",
    "    sent_tokens.pop()  \n",
    "    return robo_response\n"
   ]
  },
  {
   "cell_type": "code",
   "execution_count": 36,
   "id": "9560c0c3-114d-4092-9a8f-be5c64fd2cec",
   "metadata": {},
   "outputs": [
    {
     "name": "stdout",
     "output_type": "stream",
     "text": [
      "SABot: My name is SABot. How can I assist you? If you want to exit, type Bye!\n"
     ]
    },
    {
     "name": "stdin",
     "output_type": "stream",
     "text": [
      " hi\n"
     ]
    },
    {
     "name": "stdout",
     "output_type": "stream",
     "text": [
      "SABot: hello\n"
     ]
    },
    {
     "name": "stdin",
     "output_type": "stream",
     "text": [
      " bye\n"
     ]
    },
    {
     "name": "stdout",
     "output_type": "stream",
     "text": [
      "SABot: Bye! Take care...\n"
     ]
    }
   ],
   "source": [
    "flag = True\n",
    "print(\"SABot: My name is SABot. How can I assist you? If you want to exit, type Bye!\")\n",
    "while flag:\n",
    "    user_response = input().lower()\n",
    "    if user_response != 'bye':\n",
    "        if user_response in [\"thanks\", \"thank you\"]:\n",
    "            flag = False\n",
    "            print(\"SABot: You are welcome...\")\n",
    "        else:\n",
    "            if greeting(user_response):\n",
    "                print(\"SABot: \" + greeting(user_response))\n",
    "            else:\n",
    "                print(\"SABot: \", end=\" \")\n",
    "                print(response(user_response))\n",
    "    else:\n",
    "        flag = False\n",
    "        print(\"SABot: Bye! Take care...\")\n"
   ]
  },
  {
   "cell_type": "code",
   "execution_count": null,
   "id": "fbb32be7-4da5-4ee1-bccd-a9812cf54a37",
   "metadata": {},
   "outputs": [],
   "source": [
    "flag=True \n",
    "print(\"SABot: My name is SABot. How can I assist you?.If you want to exit, type Bye!\") \n",
    "while(flag==True): \n",
    "    user_response = input() \n",
    "    user_response=user_response.lower() \n",
    "    if(user_response!='bye'): \n",
    "        if(user_response=='thanks' or user_response == 'thank you' ): \n",
    "            flag=False \n",
    "            print(\"SABot: You are welcome...\") \n",
    "        else: \n",
    "            if(greeting(user_response)!=None): \n",
    "                print(\"SABot: \"+greeting(user_response)) \n",
    "            else: \n",
    "                print(\"SABot: \",end=\" \") \n",
    "                print(response(user_response)) \n",
    "                sent_tokens.remove(user_response) \n",
    "    else: \n",
    "        flag=False \n",
    "        print(\"SABot: Bye! take care...\")"
   ]
  },
  {
   "cell_type": "code",
   "execution_count": 1,
   "id": "710a0c57-93d3-4cbe-9dc6-469655cb83a8",
   "metadata": {},
   "outputs": [
    {
     "name": "stdout",
     "output_type": "stream",
     "text": [
      "SABot: My name is SABot. How can I assist you?.If you want to exit, type Bye!\n"
     ]
    },
    {
     "name": "stdin",
     "output_type": "stream",
     "text": [
      " What does OOP stands for?\n"
     ]
    },
    {
     "ename": "NameError",
     "evalue": "name 'greeting' is not defined",
     "output_type": "error",
     "traceback": [
      "\u001b[1;31m---------------------------------------------------------------------------\u001b[0m",
      "\u001b[1;31mNameError\u001b[0m                                 Traceback (most recent call last)",
      "Cell \u001b[1;32mIn[1], line 11\u001b[0m\n\u001b[0;32m      9\u001b[0m     \u001b[38;5;28mprint\u001b[39m(\u001b[38;5;124m\"\u001b[39m\u001b[38;5;124mSABot: You are welcome...\u001b[39m\u001b[38;5;124m\"\u001b[39m) \n\u001b[0;32m     10\u001b[0m \u001b[38;5;28;01melse\u001b[39;00m: \n\u001b[1;32m---> 11\u001b[0m     \u001b[38;5;28;01mif\u001b[39;00m(\u001b[43mgreeting\u001b[49m(user_response)\u001b[38;5;241m!=\u001b[39m\u001b[38;5;28;01mNone\u001b[39;00m): \n\u001b[0;32m     12\u001b[0m         \u001b[38;5;28mprint\u001b[39m(\u001b[38;5;124m\"\u001b[39m\u001b[38;5;124mSABot: \u001b[39m\u001b[38;5;124m\"\u001b[39m\u001b[38;5;241m+\u001b[39mgreeting(user_response)) \n\u001b[0;32m     13\u001b[0m     \u001b[38;5;28;01melse\u001b[39;00m: \n",
      "\u001b[1;31mNameError\u001b[0m: name 'greeting' is not defined"
     ]
    }
   ],
   "source": [
    "flag=True \n",
    "print(\"SABot: My name is SABot. How can I assist you?.If you want to exit, type Bye!\") \n",
    "while(flag==True): \n",
    "    user_response = input() \n",
    "    user_response=user_response.lower() \n",
    "    if(user_response!='bye'): \n",
    "        if(user_response=='thanks' or user_response == 'thank you' ): \n",
    "            flag=False \n",
    "            print(\"SABot: You are welcome...\") \n",
    "        else: \n",
    "            if(greeting(user_response)!=None): \n",
    "                print(\"SABot: \"+greeting(user_response)) \n",
    "            else: \n",
    "                print(\"SABot: \",end=\" \") \n",
    "                print(response(user_response)) \n",
    "                sent_tokens.remove(user_response) \n",
    "    else: \n",
    "        flag=False \n",
    "        print(\"SABot: Bye! take care...\")"
   ]
  },
  {
   "cell_type": "code",
   "execution_count": null,
   "id": "bd45cfe8-dbee-453d-83d8-56d0a3f9e39b",
   "metadata": {},
   "outputs": [
    {
     "name": "stdout",
     "output_type": "stream",
     "text": [
      "GURU: My name is GURU. I will answer your queries about Chatbots. If you want to exit, type Bye!\n"
     ]
    },
    {
     "name": "stdin",
     "output_type": "stream",
     "text": [
      " What does OOP stands for?\n"
     ]
    },
    {
     "name": "stdout",
     "output_type": "stream",
     "text": [
      "GURU: OOP stands for Object-Oriented Programming.\n"
     ]
    },
    {
     "name": "stdin",
     "output_type": "stream",
     "text": [
      " end\n"
     ]
    },
    {
     "name": "stdout",
     "output_type": "stream",
     "text": [
      "GURU: I am sorry! I don't understand you.\n"
     ]
    },
    {
     "name": "stdin",
     "output_type": "stream",
     "text": [
      " close it\n"
     ]
    },
    {
     "name": "stdout",
     "output_type": "stream",
     "text": [
      "GURU: I am sorry! I don't understand you.\n"
     ]
    }
   ],
   "source": [
    "# Define responses based on input.txt\n",
    "responses = {\n",
    "    \"what is a computer?\": \"A computer is a programmable device that stores, retrieves, and processes data and gives outputs.\",\n",
    "    \"what is data science?\": \"Data science is an interdisciplinary field that helps in extracting insights or knowledge from data.\",\n",
    "    \"what is artificial intelligence(ai)?\": \"Artificial intelligence (AI) is the ability of a computer or a robot controlled by a computer to do tasks that require human intelligence.\",\n",
    "    \"what is text similarity?\": \"Text similarity measures how much the meaning or content of two pieces of text are the same.\",\n",
    "    \"list any 3 algorithm in ml?\": \"Decision Tree, Random Forest, and Logistic Regression.\",\n",
    "    \"what does oop stands for?\": \"OOP stands for Object-Oriented Programming.\"\n",
    "}\n",
    "\n",
    "# Function to handle greetings\n",
    "def greeting(text):\n",
    "    greetings = [\"hi\", \"hello\", \"hey\", \"greetings\"]\n",
    "    if text.lower() in greetings:\n",
    "        return \"Hello! How can I help you?\"\n",
    "\n",
    "# Function to generate responses with partial matching\n",
    "def response(user_input):\n",
    "    user_input = user_input.lower()\n",
    "    for key in responses.keys():\n",
    "        if user_input in key:\n",
    "            return responses[key]\n",
    "    return \"I am sorry! I don't understand you.\"\n",
    "\n",
    "# Main chatbot loop\n",
    "flag = True\n",
    "print(\"GURU: My name is GURU. I will answer your queries about Chatbots. If you want to exit, type Bye!\")\n",
    "while flag:\n",
    "    user_response = input().lower()\n",
    "    if user_response != 'bye':\n",
    "        if user_response in [\"thanks\", \"thank you\"]:\n",
    "            flag = False\n",
    "            print(\"GURU: You are welcome..\")\n",
    "        else:\n",
    "            reply = greeting(user_response)\n",
    "            if reply:\n",
    "                print(\"GURU:\", reply)\n",
    "            else:\n",
    "                print(\"GURU:\", response(user_response))\n",
    "    else:\n",
    "        flag = False\n",
    "        print(\"GURU: Bye! Take care..\")\n"
   ]
  },
  {
   "cell_type": "code",
   "execution_count": null,
   "id": "6fd811a4-0982-4301-b0be-f3ad440c6486",
   "metadata": {},
   "outputs": [],
   "source": []
  }
 ],
 "metadata": {
  "kernelspec": {
   "display_name": "Python 3 (ipykernel)",
   "language": "python",
   "name": "python3"
  },
  "language_info": {
   "codemirror_mode": {
    "name": "ipython",
    "version": 3
   },
   "file_extension": ".py",
   "mimetype": "text/x-python",
   "name": "python",
   "nbconvert_exporter": "python",
   "pygments_lexer": "ipython3",
   "version": "3.12.7"
  }
 },
 "nbformat": 4,
 "nbformat_minor": 5
}
