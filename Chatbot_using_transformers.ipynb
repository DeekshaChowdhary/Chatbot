{
  "nbformat": 4,
  "nbformat_minor": 0,
  "metadata": {
    "colab": {
      "provenance": [],
      "authorship_tag": "ABX9TyOMeIq8k0X055lRghgJ0BPK",
      "include_colab_link": true
    },
    "kernelspec": {
      "name": "python3",
      "display_name": "Python 3"
    },
    "language_info": {
      "name": "python"
    }
  },
  "cells": [
    {
      "cell_type": "markdown",
      "metadata": {
        "id": "view-in-github",
        "colab_type": "text"
      },
      "source": [
        "<a href=\"https://colab.research.google.com/github/DeekshaChowdhary/Chatbot-GURU/blob/main/Chatbot_using_transformers.ipynb\" target=\"_parent\"><img src=\"https://colab.research.google.com/assets/colab-badge.svg\" alt=\"Open In Colab\"/></a>"
      ]
    },
    {
      "cell_type": "code",
      "execution_count": 3,
      "metadata": {
        "id": "Mf5f53RHWZlu"
      },
      "outputs": [],
      "source": [
        "import os\n",
        "import atexit\n",
        "import shutil\n",
        "from transformers import BlenderbotTokenizer, BlenderbotForConditionalGeneration"
      ]
    },
    {
      "cell_type": "code",
      "source": [
        "#step1\n",
        "mname = \"facebook/blenderbot-400M-distill\"\n",
        "model = BlenderbotForConditionalGeneration.from_pretrained(mname)\n",
        "tokenizer = BlenderbotTokenizer.from_pretrained(mname)\n"
      ],
      "metadata": {
        "id": "Lmfo-_J14r48"
      },
      "execution_count": 9,
      "outputs": []
    },
    {
      "cell_type": "code",
      "source": [
        "#step2\n",
        "def interact_with_chatbot(user_input, conversation_history):\n",
        "  conversation_history.append(f\"User: {user_input}\")\n",
        "  conversation_text = \" \".join(conversation_history[-5:])\n",
        "  inputs = tokenizer([conversation_text], return_tensors=\"pt\",truncation=True)\n",
        "  response_ids = model.generate(**inputs,max_length=1000, pad_token_id=tokenizer.eos_token_id)\n",
        "  response_text = tokenizer.batch_decode(response_ids[0], skip_special_tokens=True) # Corrected line\n",
        "  conversation_history.append(f\"Chatbot: {response_text}\")\n",
        "  return response_text"
      ],
      "metadata": {
        "id": "0rCOPX2u38SY"
      },
      "execution_count": 10,
      "outputs": []
    },
    {
      "cell_type": "code",
      "source": [
        "#step3\n",
        "def delete_model_files():\n",
        "  cache_dir = os.path.join(os.path.expanduser(\"~\"), \".cache\", \"huggingface\")\n",
        "  if os.path.exists(cache_dir):\n",
        "    user_input = input(\"Are you sure you want to delete the model files? (yes/no): \")\n",
        "    if user_input.lower() == \"yes\":\n",
        "      shutil.rmtree(cache_dir)\n",
        "      print(\"deleted model files from cache directory.\")\n",
        "    else:\n",
        "      print(\"model files not deleted from cache directory.\")"
      ],
      "metadata": {
        "id": "MpZHj4-p5sys"
      },
      "execution_count": 11,
      "outputs": []
    },
    {
      "cell_type": "code",
      "source": [
        "#step4\n",
        "atexit.register(delete_model_files)"
      ],
      "metadata": {
        "colab": {
          "base_uri": "https://localhost:8080/",
          "height": 104
        },
        "id": "5XRDB_xz7dg1",
        "outputId": "d2b522ed-96bd-4f46-d7d8-1855798690a8"
      },
      "execution_count": 12,
      "outputs": [
        {
          "output_type": "execute_result",
          "data": {
            "text/plain": [
              "<function __main__.delete_model_files()>"
            ],
            "text/html": [
              "<div style=\"max-width:800px; border: 1px solid var(--colab-border-color);\"><style>\n",
              "      pre.function-repr-contents {\n",
              "        overflow-x: auto;\n",
              "        padding: 8px 12px;\n",
              "        max-height: 500px;\n",
              "      }\n",
              "\n",
              "      pre.function-repr-contents.function-repr-contents-collapsed {\n",
              "        cursor: pointer;\n",
              "        max-height: 100px;\n",
              "      }\n",
              "    </style>\n",
              "    <pre style=\"white-space: initial; background:\n",
              "         var(--colab-secondary-surface-color); padding: 8px 12px;\n",
              "         border-bottom: 1px solid var(--colab-border-color);\"><b>delete_model_files</b><br/>def delete_model_files()</pre><pre class=\"function-repr-contents function-repr-contents-collapsed\" style=\"\"><a class=\"filepath\" style=\"display:none\" href=\"#\">/content/&lt;ipython-input-11-a22856f5ded3&gt;</a>&lt;no docstring&gt;</pre></div>"
            ]
          },
          "metadata": {},
          "execution_count": 12
        }
      ]
    },
    {
      "cell_type": "code",
      "source": [],
      "metadata": {
        "id": "e28QdHiB-fXS"
      },
      "execution_count": null,
      "outputs": []
    },
    {
      "cell_type": "code",
      "source": [
        "#step5\n",
        "print(\"Welcome to the Indian Tourism Chatbot!\")\n",
        "print(\"Type 'quit' to end the conversation.\\n\")\n",
        "conversation_history=[]\n",
        "while True:\n",
        "  user_input = input(\"User: \")\n",
        "  if user_input.lower() == \"quit\":\n",
        "    print(\"Thank you for using the Indian Tourism Chatbot..Goodbye\")\n",
        "    break\n",
        "  response = interact_with_chatbot(user_input, conversation_history)\n",
        "  print(\"Chatbot:\", response)"
      ],
      "metadata": {
        "colab": {
          "base_uri": "https://localhost:8080/"
        },
        "id": "3LHT4doj8F3V",
        "outputId": "6d2f5f28-9bbb-4c18-a416-1d9161db8553"
      },
      "execution_count": 13,
      "outputs": [
        {
          "output_type": "stream",
          "name": "stdout",
          "text": [
            "Welcome to the Indian Tourism Chatbot!\n",
            "Type 'quit' to end the conversation.\n",
            "\n",
            "User: hello\n",
            "Chatbot: ['', ' Hello', '!', ' How', ' are', ' you', ' doing', ' today', '?', ' I', ' just', ' got', ' back', ' from', ' a', ' walk', ' with', ' my', ' dog', '.', '']\n",
            "User: i am doing well just tired\n",
            "Chatbot: ['', ' Hello', ',', ' how', ' are', ' you', ' today', '?', ' I', ' am', ' tired', ' too', ',', ' I', ' just', ' got', ' back', ' from', ' walking', ' my', ' dog', '.', '']\n",
            "User: quit\n",
            "Thank you for using the Indian Tourism Chatbot..Goodbye\n"
          ]
        }
      ]
    },
    {
      "cell_type": "code",
      "source": [],
      "metadata": {
        "id": "XX8q-gsI9FAt"
      },
      "execution_count": null,
      "outputs": []
    }
  ]
}