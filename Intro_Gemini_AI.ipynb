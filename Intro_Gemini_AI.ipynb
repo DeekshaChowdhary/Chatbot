{
  "nbformat": 4,
  "nbformat_minor": 0,
  "metadata": {
    "colab": {
      "provenance": [],
      "authorship_tag": "ABX9TyNa0zPO1hxNHxsM2brSmseU",
      "include_colab_link": true
    },
    "kernelspec": {
      "name": "python3",
      "display_name": "Python 3"
    },
    "language_info": {
      "name": "python"
    }
  },
  "cells": [
    {
      "cell_type": "markdown",
      "metadata": {
        "id": "view-in-github",
        "colab_type": "text"
      },
      "source": [
        "<a href=\"https://colab.research.google.com/github/DeekshaChowdhary/Chatbot-GURU/blob/main/Intro_Gemini_AI.ipynb\" target=\"_parent\"><img src=\"https://colab.research.google.com/assets/colab-badge.svg\" alt=\"Open In Colab\"/></a>"
      ]
    },
    {
      "cell_type": "code",
      "execution_count": 1,
      "metadata": {
        "id": "2DzUnP9oQkwC"
      },
      "outputs": [],
      "source": [
        "%pip install  -U -q \"google-generativeai>=0.7.2\""
      ]
    },
    {
      "cell_type": "code",
      "source": [
        "import google.generativeai as genai\n",
        "from google.colab import userdata\n",
        "GEMINI_API_KEY=userdata.get('GEMINI_API_KEY')\n",
        "genai.configure(api_key=GEMINI_API_KEY)"
      ],
      "metadata": {
        "id": "1FRhTW-oSZli"
      },
      "execution_count": 7,
      "outputs": []
    },
    {
      "cell_type": "code",
      "source": [
        "model = genai.GenerativeModel('models/gemini-2.0-flash')\n",
        "response=model.generate_content(\"Please give me python code to sort a list.\")\n",
        "print(response.text)"
      ],
      "metadata": {
        "colab": {
          "base_uri": "https://localhost:8080/",
          "height": 1000
        },
        "id": "ofuxw3PhVEiC",
        "outputId": "e6ad5f57-0025-4fe9-c698-88f03579ba5f"
      },
      "execution_count": 8,
      "outputs": [
        {
          "output_type": "stream",
          "name": "stdout",
          "text": [
            "```python\n",
            "# There are several ways to sort a list in Python:\n",
            "\n",
            "# 1. Using the `sorted()` function (returns a new sorted list):\n",
            "\n",
            "def sort_list_new(my_list):\n",
            "  \"\"\"\n",
            "  Sorts a list and returns a new sorted list.  The original list is unchanged.\n",
            "  \"\"\"\n",
            "  return sorted(my_list)\n",
            "\n",
            "# Example:\n",
            "original_list = [3, 1, 4, 1, 5, 9, 2, 6]\n",
            "sorted_list = sort_list_new(original_list)\n",
            "print(\"Original list:\", original_list)\n",
            "print(\"Sorted list:\", sorted_list)\n",
            "\n",
            "# 2. Using the `list.sort()` method (sorts the list in place):\n",
            "\n",
            "def sort_list_in_place(my_list):\n",
            "  \"\"\"\n",
            "  Sorts a list in place (modifies the original list).\n",
            "  \"\"\"\n",
            "  my_list.sort()  # Modifies the list directly\n",
            "\n",
            "\n",
            "# Example:\n",
            "original_list = [3, 1, 4, 1, 5, 9, 2, 6]\n",
            "sort_list_in_place(original_list)\n",
            "print(\"Sorted list:\", original_list)  # The original list is now sorted.\n",
            "\n",
            "\n",
            "# 3. Sorting in reverse order:\n",
            "\n",
            "def sort_list_reverse(my_list):\n",
            "  \"\"\"\n",
            "  Sorts a list in descending order (largest to smallest) and returns a new list.\n",
            "  \"\"\"\n",
            "  return sorted(my_list, reverse=True)\n",
            "\n",
            "\n",
            "# Example:\n",
            "original_list = [3, 1, 4, 1, 5, 9, 2, 6]\n",
            "reversed_sorted_list = sort_list_reverse(original_list)\n",
            "print(\"Original list:\", original_list)\n",
            "print(\"Reversed sorted list:\", reversed_sorted_list)\n",
            "\n",
            "# Using list.sort() in reverse is similar:\n",
            "def sort_list_in_place_reverse(my_list):\n",
            "  my_list.sort(reverse=True)\n",
            "\n",
            "\n",
            "# 4. Sorting with a custom key (more advanced):\n",
            "\n",
            "def sort_list_by_length(my_list):\n",
            "  \"\"\"\n",
            "  Sorts a list of strings by their length.\n",
            "  \"\"\"\n",
            "  return sorted(my_list, key=len)\n",
            "\n",
            "\n",
            "# Example:\n",
            "string_list = [\"apple\", \"banana\", \"kiwi\", \"orange\"]\n",
            "sorted_by_length = sort_list_by_length(string_list)\n",
            "print(\"Original list:\", string_list)\n",
            "print(\"Sorted by length:\", sorted_by_length)\n",
            "\n",
            "def sort_list_by_last_element(my_list):\n",
            "    \"\"\"Sorts a list of tuples based on the last element of each tuple.\"\"\"\n",
            "    return sorted(my_list, key=lambda x: x[-1]) # Example using a lambda function\n",
            "\n",
            "tuple_list = [(1, 2, 3), (4, 5, 1), (6, 7, 2)]\n",
            "sorted_by_last = sort_list_by_last_element(tuple_list)\n",
            "print(\"Original list:\", tuple_list)\n",
            "print(\"Sorted by last element:\", sorted_by_last)\n",
            "\n",
            "\n",
            "# Choosing the right method:\n",
            "\n",
            "*   Use `sorted()` if you need to keep the original list unchanged and want a new sorted list.  This is generally the preferred method unless you have a specific reason to modify the original list.\n",
            "\n",
            "*   Use `list.sort()` if you are okay with modifying the original list in place and want a more efficient solution (it avoids creating a new list).  `list.sort()` is slightly faster than `sorted()` for this reason.  However, be aware that the original list *will* be modified.\n",
            "\n",
            "*   The `reverse` parameter is used to sort in descending order.\n",
            "\n",
            "*   The `key` parameter is used for more complex sorting scenarios where you want to sort based on a computed value or a specific attribute of the list elements. Lambda functions are often used as keys for concise custom sorting logic.\n",
            "\n"
          ]
        }
      ]
    },
    {
      "cell_type": "code",
      "source": [
        "from google import genai\n",
        "from google.genai import types\n",
        "\n",
        "client = genai.Client(api_key=GEMINI_API_KEY)"
      ],
      "metadata": {
        "id": "T_5oyycwWZud"
      },
      "execution_count": 9,
      "outputs": []
    },
    {
      "cell_type": "code",
      "source": [],
      "metadata": {
        "id": "3CRQjLplZfWD"
      },
      "execution_count": null,
      "outputs": []
    }
  ]
}